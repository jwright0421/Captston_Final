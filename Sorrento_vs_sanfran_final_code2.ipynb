{
 "cells": [
  {
   "cell_type": "code",
   "execution_count": null,
   "metadata": {},
   "outputs": [],
   "source": [
    "import requests # library to handle requests\n",
    "import pandas as pd # library for data analsysis\n",
    "import numpy as np # library to handle data in a vectorized manner\n",
    "import random # library for random number generation\n",
    "\n",
    "!conda install -c conda-forge geopy --yes \n",
    "from geopy.geocoders import Nominatim # module to convert an address into latitude and longitude values\n",
    "\n",
    "# libraries for displaying images\n",
    "from IPython.display import Image \n",
    "from IPython.core.display import HTML \n",
    "    \n",
    "# tranforming json file into a pandas dataframe library\n",
    "from pandas.io.json import json_normalize\n",
    "\n",
    "!conda install -c conda-forge folium=0.5.0 --yes\n",
    "import folium # plotting library\n",
    "\n",
    "print('Folium installed')\n",
    "print('Libraries imported.')"
   ]
  },
  {
   "cell_type": "code",
   "execution_count": null,
   "metadata": {},
   "outputs": [],
   "source": [
    "import os\n",
    "\n",
    "Foursquare_ID = os.environ.get('CLIENT_ID')\n",
    "Foursquare_Secret = os.environ.get('CLIENT_SECRET')\n",
    "\n",
    "print(Foursquare_ID)\n",
    "print(Foursquare_Secret)\n",
    "VERSION = '20180604'\n",
    "LIMIT = 100\n",
    "print('Your credentails:')\n",
    "print('CLIENT_ID: ' + CLIENT_ID)\n",
    "print('CLIENT_SECRET:' + CLIENT_SECRET)"
   ]
  },
  {
   "cell_type": "code",
   "execution_count": null,
   "metadata": {},
   "outputs": [],
   "source": [
    "address_sorrento = 'Sorrento, Italy'\n",
    "\n",
    "geolocator = Nominatim(user_agent=\"foursquare_agent\")\n",
    "location_sorrento = geolocator.geocode(address_sorrento)\n",
    "latitude_sorrento = location.latitude\n",
    "longitude_sorrento = location.longitude\n",
    "print(latitude_sorrento, longitude_sorrento)"
   ]
  },
  {
   "cell_type": "code",
   "execution_count": null,
   "metadata": {},
   "outputs": [],
   "source": [
    "search_query_sorrento = '4bf58dd8d48988d110941735' # Italian restaurants in Sorrento search results using a Foursquare category code\n",
    "radius = 1000\n",
    "limit = 100\n",
    "print(' .... OK!')"
   ]
  },
  {
   "cell_type": "code",
   "execution_count": null,
   "metadata": {},
   "outputs": [],
   "source": [
    "# Formatting for url search\n",
    "\n",
    "url_sorrento = 'https://api.foursquare.com/v2/venues/search?categoryId={}&client_id={}&client_secret={}&ll={},{}&v={}&radius={}&limit={}'.format(search_query_sorrento, CLIENT_ID, CLIENT_SECRET, latitude_sorrento, longitude_sorrento, VERSION, radius, limit)\n",
    "url_sorrento"
   ]
  },
  {
   "cell_type": "code",
   "execution_count": null,
   "metadata": {},
   "outputs": [],
   "source": [
    "df_sorrento = requests.get(url_sorrento).json()\n",
    "print('df_sorrento created')"
   ]
  },
  {
   "cell_type": "code",
   "execution_count": null,
   "metadata": {},
   "outputs": [],
   "source": [
    "# assign relevant part of JSON to venues\n",
    "venues_sorrento1 = df_sorrento['response']['venues']\n",
    "\n",
    "# tranform venues into a dataframe\n",
    "df_sorrento_italian = json_normalize(venues_sorrento1)\n",
    "df_sorrento_italian.head()"
   ]
  },
  {
   "cell_type": "code",
   "execution_count": null,
   "metadata": {},
   "outputs": [],
   "source": [
    "df_sorrento_italian.shape"
   ]
  },
  {
   "cell_type": "code",
   "execution_count": null,
   "metadata": {},
   "outputs": [],
   "source": [
    "# keep only columns that include venue name, and anything that is associated with location\n",
    "filtered_columns = ['name', 'categories'] + [col for col in df_sorrento_italian.columns if col.startswith('location.')] + ['id']\n",
    "df_sorrento_IT_filtered = df_sorrento_italian.loc[:, filtered_columns]\n",
    "\n",
    "# function that extracts the category of the venue\n",
    "def get_category_type(row):\n",
    "    try:\n",
    "        categories_list = row['categories']\n",
    "    except:\n",
    "        categories_list = row['venue.categories']\n",
    "        \n",
    "    if len(categories_list) == 0:\n",
    "        return None\n",
    "    else:\n",
    "        return categories_list[0]['name']\n",
    "\n",
    "# filter the category for each row\n",
    "df_sorrento_IT_filtered['categories'] = df_sorrento_IT_filtered.apply(get_category_type, axis=1)\n",
    "\n",
    "# clean column names by keeping only last term\n",
    "df_sorrento_IT_filtered.columns = [column.split('.')[-1] for column in df_sorrento_IT_filtered.columns]\n",
    "\n",
    "df_sorrento_IT_filtered.head()"
   ]
  },
  {
   "cell_type": "code",
   "execution_count": null,
   "metadata": {},
   "outputs": [],
   "source": [
    "search_query_sorrento1 = '4d4b7105d754a06374d81259' # Food places in Sorrento search results using a Foursquare category code\n",
    "radius = 1000\n",
    "limit = 100\n",
    "print(' .... OK!')"
   ]
  },
  {
   "cell_type": "code",
   "execution_count": null,
   "metadata": {},
   "outputs": [],
   "source": [
    "# Formatting for url search\n",
    "\n",
    "url_sorrento1 = 'https://api.foursquare.com/v2/venues/search?categoryId={}&client_id={}&client_secret={}&ll={},{}&v={}&radius={}&limit={}'.format(search_query_sorrento1, CLIENT_ID, CLIENT_SECRET, latitude_sorrento, longitude_sorrento, VERSION, radius, limit)\n",
    "url_sorrento1"
   ]
  },
  {
   "cell_type": "code",
   "execution_count": null,
   "metadata": {},
   "outputs": [],
   "source": [
    "df_sorrento1 = requests.get(url_sorrento1).json()\n",
    "print('df_sorrento1 created')"
   ]
  },
  {
   "cell_type": "code",
   "execution_count": null,
   "metadata": {},
   "outputs": [],
   "source": [
    "# assign relevant part of JSON to venues\n",
    "venues_sorrento2 = df_sorrento1['response']['venues']\n",
    "\n",
    "# tranform venues into a dataframe\n",
    "df_sorrento_food = json_normalize(venues_sorrento2)\n",
    "df_sorrento_food.head()"
   ]
  },
  {
   "cell_type": "code",
   "execution_count": null,
   "metadata": {},
   "outputs": [],
   "source": [
    "df_sorrento_food.shape"
   ]
  },
  {
   "cell_type": "code",
   "execution_count": null,
   "metadata": {},
   "outputs": [],
   "source": [
    "# keep only columns that include venue name, and anything that is associated with location\n",
    "filtered_columns = ['name', 'categories'] + [col for col in df_sorrento_food.columns if col.startswith('location.')] + ['id']\n",
    "df_sorrento_food_filtered = df_sorrento_food.loc[:, filtered_columns]\n",
    "\n",
    "# function that extracts the category of the venue\n",
    "def get_category_type(row):\n",
    "    try:\n",
    "        categories_list = row['categories']\n",
    "    except:\n",
    "        categories_list = row['venue.categories']\n",
    "        \n",
    "    if len(categories_list) == 0:\n",
    "        return None\n",
    "    else:\n",
    "        return categories_list[0]['name']\n",
    "\n",
    "# filter the category for each row\n",
    "df_sorrento_food_filtered['categories'] = df_sorrento_food_filtered.apply(get_category_type, axis=1)\n",
    "\n",
    "# clean column names by keeping only last term\n",
    "df_sorrento_food_filtered.columns = [column.split('.')[-1] for column in df_sorrento_food_filtered.columns]\n",
    "\n",
    "df_sorrento_food_filtered.head()"
   ]
  },
  {
   "cell_type": "code",
   "execution_count": null,
   "metadata": {},
   "outputs": [],
   "source": [
    "df_sorrento_IT_filtered.to_csv('sorrentoITfiltered.csv', index=False)"
   ]
  },
  {
   "cell_type": "code",
   "execution_count": null,
   "metadata": {},
   "outputs": [],
   "source": [
    "df_sorrento_food_filtered.to_csv('sorrentoFoodfiltered.csv', index=False)"
   ]
  },
  {
   "cell_type": "code",
   "execution_count": null,
   "metadata": {},
   "outputs": [],
   "source": [
    "# Exported files 'sorrentoITfiltered and sorrentoFoodfiltered' to create usable database imported below\n",
    "\n",
    "df_final_sorrento = pd.read_csv(\"SorrentoFoodPlaceRatings.csv\")\n",
    "df_final_sorrento.head()"
   ]
  },
  {
   "cell_type": "code",
   "execution_count": null,
   "metadata": {},
   "outputs": [],
   "source": [
    "venues_map_sorrento_final = folium.Map(location=[latitude_sorrento, longitude_sorrento], zoom_start=15) # generate map centred around Sorrento, IT\n",
    "\n",
    "# add a green circle marker to represent the center of Sorrento, IT\n",
    "folium.features.CircleMarker(\n",
    "    [latitude_sorrento, longitude_sorrento],\n",
    "    radius=10,\n",
    "    color='green',\n",
    "    popup='Sorrento',\n",
    "    fill = True,\n",
    "    fill_color = 'green',\n",
    "    fill_opacity = 0.6\n",
    ").add_to(venues_map_sorrento_final)\n",
    "\n",
    "# add the food places of Sorrento as blue circle markers\n",
    "for lat, lng, label in zip(df_final_sorrento.lat, df_final_sorrento.lng, df_final_sorrento.categories):\n",
    "    folium.features.CircleMarker(\n",
    "        [lat, lng],\n",
    "        radius=5,\n",
    "        color='blue',\n",
    "        popup=label,\n",
    "        fill = True,\n",
    "        fill_color='blue',\n",
    "        fill_opacity=0.6\n",
    "    ).add_to(venues_map_sorrento_final)\n",
    "\n",
    "# display map\n",
    "venues_map_sorrento_final"
   ]
  },
  {
   "cell_type": "code",
   "execution_count": null,
   "metadata": {},
   "outputs": [],
   "source": [
    "from folium import plugins\n",
    "\n",
    "# let's start again with a clean copy of the map of San Francisco\n",
    "sorrento_final_cluster_map = folium.Map(location = [latitude_sorrento, longitude_sorrento], zoom_start = 15)\n",
    "\n",
    "# instantiate a mark cluster object for the incidents in the dataframe\n",
    "sorrento_grouping = plugins.MarkerCluster().add_to(sorrento_final_cluster_map)\n",
    "\n",
    "# loop through the dataframe and add each data point to the mark cluster\n",
    "for lat, lng, label, in zip(df_final_sorrento.lat, df_final_sorrento.lng, df_final_sorrento.categories):\n",
    "    folium.Marker(\n",
    "        location=[lat, lng],\n",
    "        icon=None,\n",
    "        popup=label,\n",
    "    ).add_to(sorrento_grouping)\n",
    "\n",
    "# display map\n",
    "sorrento_final_cluster_map"
   ]
  },
  {
   "cell_type": "code",
   "execution_count": null,
   "metadata": {},
   "outputs": [],
   "source": [
    "address = 'San Francisco'\n",
    "\n",
    "geolocator = Nominatim(user_agent=\"foursquare_agent\")\n",
    "location_sf = geolocator.geocode(address)\n",
    "latitude_sf = location_sf.latitude\n",
    "longitude_sf = location_sf.longitude\n",
    "print(latitude_sf, longitude_sf)"
   ]
  },
  {
   "cell_type": "code",
   "execution_count": null,
   "metadata": {},
   "outputs": [],
   "source": [
    "search_sf_italian = '4bf58dd8d48988d110941735' # Foursquare category ID for Italian Restaurants\n",
    "radius_sf = 20000\n",
    "limit_sf = 100\n",
    "print('Search completed!')"
   ]
  },
  {
   "cell_type": "code",
   "execution_count": null,
   "metadata": {},
   "outputs": [],
   "source": [
    "url_sf_italian = 'https://api.foursquare.com/v2/venues/search?categoryId={}&client_id={}&client_secret={}&ll={},{}&v={}&radius={}&limit={}'.format(search_sf_italian, CLIENT_ID, CLIENT_SECRET, latitude_sf, longitude_sf, VERSION, radius_sf, limit_sf)\n",
    "url_sf_italian"
   ]
  },
  {
   "cell_type": "code",
   "execution_count": null,
   "metadata": {},
   "outputs": [],
   "source": [
    "# Italian Restaurants search in San Francisco, CA\n",
    "\n",
    "results_sf = requests.get(url_sf_italian).json()\n",
    "print('San Francisco Results!')"
   ]
  },
  {
   "cell_type": "code",
   "execution_count": null,
   "metadata": {},
   "outputs": [],
   "source": [
    "# assign relevant part of JSON to venues\n",
    "venues_sf = results_sf['response']['venues']\n",
    "\n",
    "# tranform venues into a dataframe\n",
    "df_sanfran = json_normalize(venues_sf)\n",
    "df_sanfran.head()"
   ]
  },
  {
   "cell_type": "code",
   "execution_count": null,
   "metadata": {},
   "outputs": [],
   "source": [
    "# keep only columns that include venue name, and anything that is associated with location\n",
    "filtered_columns = ['name', 'categories'] + [col for col in df_sanfran.columns if col.startswith('location.')] + ['id']\n",
    "df_sanfran_italian_filtered = df_sanfran.loc[:, filtered_columns]\n",
    "\n",
    "# function that extracts the category of the venue\n",
    "def get_category_type(row):\n",
    "    try:\n",
    "        categories_list = row['categories']\n",
    "    except:\n",
    "        categories_list = row['venue.categories']\n",
    "        \n",
    "    if len(categories_list) == 0:\n",
    "        return None\n",
    "    else:\n",
    "        return categories_list[0]['name']\n",
    "\n",
    "# filter the category for each row\n",
    "df_sanfran_italian_filtered['categories'] = df_sanfran_italian_filtered.apply(get_category_type, axis=1)\n",
    "\n",
    "# clean column names by keeping only last term\n",
    "df_sanfran_italian_filtered.columns = [column.split('.')[-1] for column in df_sanfran_italian_filtered.columns]\n",
    "df_sanfran_italian_filtered.head()"
   ]
  },
  {
   "cell_type": "code",
   "execution_count": null,
   "metadata": {},
   "outputs": [],
   "source": [
    "df_sanfran_italian_filtered.to_csv('SanFranItalianFiltered.csv', index=False)"
   ]
  },
  {
   "cell_type": "code",
   "execution_count": null,
   "metadata": {},
   "outputs": [],
   "source": [
    "search_sf_seafood = '4bf58dd8d48988d1ce941735' # Foursquare category ID for Seafood Restaurants\n",
    "radius_sf = 20000\n",
    "limit_sf = 100\n",
    "print('Search completed!')"
   ]
  },
  {
   "cell_type": "code",
   "execution_count": null,
   "metadata": {},
   "outputs": [],
   "source": [
    "url_sf_seafood = 'https://api.foursquare.com/v2/venues/search?categoryId={}&client_id={}&client_secret={}&ll={},{}&v={}&radius={}&limit={}'.format(search_sf_seafood, CLIENT_ID, CLIENT_SECRET, latitude_sf, longitude_sf, VERSION, radius_sf, limit_sf)\n",
    "url_sf_seafood"
   ]
  },
  {
   "cell_type": "code",
   "execution_count": null,
   "metadata": {},
   "outputs": [],
   "source": [
    "# Seafood Restaurants search in San Francisco, CA\n",
    "\n",
    "results_sf_seafood = requests.get(url_sf_seafood).json()\n",
    "print('San Francisco Seafood Results!')"
   ]
  },
  {
   "cell_type": "code",
   "execution_count": null,
   "metadata": {},
   "outputs": [],
   "source": [
    "# assign relevant part of JSON to venues\n",
    "venues_sf_seafood = results_sf_seafood['response']['venues']\n",
    "\n",
    "# tranform venues into a dataframe\n",
    "df_sanfran_seafood = json_normalize(venues_sf_seafood)\n",
    "df_sanfran_seafood.head()"
   ]
  },
  {
   "cell_type": "code",
   "execution_count": null,
   "metadata": {},
   "outputs": [],
   "source": [
    "# keep only columns that include venue name, and anything that is associated with location\n",
    "filtered_columns = ['name', 'categories'] + [col for col in df_sanfran_seafood.columns if col.startswith('location.')] + ['id']\n",
    "df_sanfran_seafood_filtered = df_sanfran_seafood.loc[:, filtered_columns]\n",
    "\n",
    "# function that extracts the category of the venue\n",
    "def get_category_type(row):\n",
    "    try:\n",
    "        categories_list = row['categories']\n",
    "    except:\n",
    "        categories_list = row['venue.categories']\n",
    "        \n",
    "    if len(categories_list) == 0:\n",
    "        return None\n",
    "    else:\n",
    "        return categories_list[0]['name']\n",
    "\n",
    "# filter the category for each row\n",
    "df_sanfran_seafood_filtered['categories'] = df_sanfran_seafood_filtered.apply(get_category_type, axis=1)\n",
    "\n",
    "# clean column names by keeping only last term\n",
    "df_sanfran_seafood_filtered.columns = [column.split('.')[-1] for column in df_sanfran_seafood_filtered.columns]\n",
    "df_sanfran_seafood_filtered.head()"
   ]
  },
  {
   "cell_type": "code",
   "execution_count": null,
   "metadata": {},
   "outputs": [],
   "source": [
    "df_sanfran_seafood_filtered.to_csv('SanFranSeafoodFiltered.csv', index=False)"
   ]
  },
  {
   "cell_type": "code",
   "execution_count": null,
   "metadata": {},
   "outputs": [],
   "source": [
    "search_sf_steakhouse = '4bf58dd8d48988d1cc941735' # Foursquare category ID for Steakhouse Restaurants\n",
    "radius_sf = 20000\n",
    "limit_sf = 100\n",
    "print('Search completed!')"
   ]
  },
  {
   "cell_type": "code",
   "execution_count": null,
   "metadata": {},
   "outputs": [],
   "source": [
    "url_sf_steakhouse = 'https://api.foursquare.com/v2/venues/search?categoryId={}&client_id={}&client_secret={}&ll={},{}&v={}&radius={}&limit={}'.format(search_sf_steakhouse, CLIENT_ID, CLIENT_SECRET, latitude_sf, longitude_sf, VERSION, radius_sf, limit_sf)\n",
    "url_sf_steakhouse"
   ]
  },
  {
   "cell_type": "code",
   "execution_count": null,
   "metadata": {},
   "outputs": [],
   "source": [
    "# Steakhouse Restaurants search in San Francisco, CA\n",
    "\n",
    "results_sf_steakhouse = requests.get(url_sf_steakhouse).json()\n",
    "print('San Francisco Steakhouse Results!')"
   ]
  },
  {
   "cell_type": "code",
   "execution_count": null,
   "metadata": {},
   "outputs": [],
   "source": [
    "# assign relevant part of JSON to venues\n",
    "venues_sf_steakhouse = results_sf_steakhouse['response']['venues']\n",
    "\n",
    "# tranform venues into a dataframe\n",
    "df_sanfran_steakhouse = json_normalize(venues_sf_steakhouse)\n",
    "df_sanfran_steakhouse.head()"
   ]
  },
  {
   "cell_type": "code",
   "execution_count": null,
   "metadata": {},
   "outputs": [],
   "source": [
    "# keep only columns that include venue name, and anything that is associated with location\n",
    "filtered_columns = ['name', 'categories'] + [col for col in df_sanfran_steakhouse.columns if col.startswith('location.')] + ['id']\n",
    "df_sanfran_steakhouse_filtered = df_sanfran_steakhouse.loc[:, filtered_columns]\n",
    "\n",
    "# function that extracts the category of the venue\n",
    "def get_category_type(row):\n",
    "    try:\n",
    "        categories_list = row['categories']\n",
    "    except:\n",
    "        categories_list = row['venue.categories']\n",
    "        \n",
    "    if len(categories_list) == 0:\n",
    "        return None\n",
    "    else:\n",
    "        return categories_list[0]['name']\n",
    "\n",
    "# filter the category for each row\n",
    "df_sanfran_steakhouse_filtered['categories'] = df_sanfran_steakhouse_filtered.apply(get_category_type, axis=1)\n",
    "\n",
    "# clean column names by keeping only last term\n",
    "df_sanfran_steakhouse_filtered.columns = [column.split('.')[-1] for column in df_sanfran_steakhouse_filtered.columns]\n",
    "df_sanfran_steakhouse_filtered.head()"
   ]
  },
  {
   "cell_type": "code",
   "execution_count": null,
   "metadata": {},
   "outputs": [],
   "source": [
    "df_sanfran_steakhouse_filtered.to_csv('SanFranSteakhouseFiltered.csv', index=False)"
   ]
  },
  {
   "cell_type": "code",
   "execution_count": null,
   "metadata": {},
   "outputs": [],
   "source": [
    "# import combined files for San Francisco Italian, seafood, and steakhouse restaurants\n",
    "\n",
    "df_sanfran_final = pd.read_csv(\"SanFranAllFoodPlaces05262020.csv\")\n",
    "df_sanfran_final.head()"
   ]
  },
  {
   "cell_type": "code",
   "execution_count": null,
   "metadata": {},
   "outputs": [],
   "source": [
    "df_sanfran_final.shape"
   ]
  },
  {
   "cell_type": "code",
   "execution_count": null,
   "metadata": {},
   "outputs": [],
   "source": [
    "# create San Francisco map and display it\n",
    "sanfran_final_map = folium.Map(location=[latitude_sf, longitude_sf], zoom_start=12)\n",
    "\n",
    "# display the map of San Francisco\n",
    "sanfran_final_map"
   ]
  },
  {
   "cell_type": "code",
   "execution_count": null,
   "metadata": {},
   "outputs": [],
   "source": [
    "# instantiate a feature group for the incidents in the dataframe\n",
    "sf_food_final = folium.map.FeatureGroup()\n",
    "\n",
    "# loop through the restaurants and add each to the feature group\n",
    "for lat, lng, in zip(df_sanfran_final.Y, df_sanfran_final.X):\n",
    "    sf_food_final.add_child(\n",
    "        folium.features.CircleMarker(\n",
    "            [lat, lng],\n",
    "            radius=5, # define how big you want the circle markers to be\n",
    "            color='blue',\n",
    "            fill=True,\n",
    "            fill_color='blue',\n",
    "            fill_opacity=0.6\n",
    "        )\n",
    "    )\n",
    "\n",
    "# add incidents to map\n",
    "sanfran_final_map.add_child(sf_food_final)"
   ]
  },
  {
   "cell_type": "code",
   "execution_count": null,
   "metadata": {},
   "outputs": [],
   "source": [
    "from folium import plugins\n",
    "\n",
    "# let's start again with a clean copy of the map of San Francisco\n",
    "sanfran_final_map = folium.Map(location = [latitude_sf, longitude_sf], zoom_start = 12)\n",
    "\n",
    "# instantiate a mark cluster object for the incidents in the dataframe\n",
    "sanfran_food_cluster_final = plugins.MarkerCluster().add_to(sanfran_final_map)\n",
    "\n",
    "# loop through the dataframe and add each data point to the mark cluster\n",
    "for lat, lng, label, in zip(df_sanfran_final.Y, df_sanfran_final.X, df_sanfran_final.Type):\n",
    "    folium.Marker(\n",
    "        location=[lat, lng],\n",
    "        icon=None,\n",
    "        popup=label,\n",
    "    ).add_to(sanfran_food_cluster_final)\n",
    "\n",
    "# display map\n",
    "sanfran_final_map"
   ]
  },
  {
   "cell_type": "code",
   "execution_count": null,
   "metadata": {},
   "outputs": [],
   "source": []
  }
 ],
 "metadata": {
  "kernelspec": {
   "display_name": "Python",
   "language": "python",
   "name": "conda-env-python-py"
  },
  "language_info": {
   "codemirror_mode": {
    "name": "ipython",
    "version": 3
   },
   "file_extension": ".py",
   "mimetype": "text/x-python",
   "name": "python",
   "nbconvert_exporter": "python",
   "pygments_lexer": "ipython3",
   "version": "3.6.10"
  }
 },
 "nbformat": 4,
 "nbformat_minor": 4
}
